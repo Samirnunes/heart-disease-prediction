{
 "cells": [
  {
   "cell_type": "code",
   "execution_count": 1,
   "metadata": {},
   "outputs": [],
   "source": [
    "from hdp_data_import import import_heart_disease_data\n",
    "from hdp_data_pipeline import HdpDataPipeline\n",
    "from hdp_many_model_evaluator import HdpManyModelEvaluator\n",
    "from sklearn.ensemble import RandomForestClassifier\n",
    "from sklearn.tree import DecisionTreeClassifier\n",
    "from sklearn.linear_model import LogisticRegression"
   ]
  },
  {
   "cell_type": "code",
   "execution_count": 2,
   "metadata": {},
   "outputs": [
    {
     "data": {
      "text/plain": [
       "[{'mean_accuracy': 0.8104772286821706, 'mean_recall': 0.8079257877052054},\n",
       " {'mean_accuracy': 0.7142805232558139, 'mean_recall': 0.7151846382739969},\n",
       " {'mean_accuracy': 0.8104408914728681, 'mean_recall': 0.8079990844447422}]"
      ]
     },
     "execution_count": 2,
     "metadata": {},
     "output_type": "execute_result"
    }
   ],
   "source": [
    "X_train, X_test, y_train, y_test = import_heart_disease_data()\n",
    "random_state = 100\n",
    "pipeline = HdpDataPipeline()\n",
    "models = [RandomForestClassifier(n_estimators=100, random_state=random_state),\n",
    "          DecisionTreeClassifier(random_state=random_state),\n",
    "          LogisticRegression()]\n",
    "many_evaluator = HdpManyModelEvaluator(models, pipeline)\n",
    "many_evaluator.kfold_cross_val(X_train, y_train)"
   ]
  },
  {
   "cell_type": "code",
   "execution_count": null,
   "metadata": {},
   "outputs": [],
   "source": []
  }
 ],
 "metadata": {
  "kernelspec": {
   "display_name": "data-science",
   "language": "python",
   "name": "python3"
  },
  "language_info": {
   "codemirror_mode": {
    "name": "ipython",
    "version": 3
   },
   "file_extension": ".py",
   "mimetype": "text/x-python",
   "name": "python",
   "nbconvert_exporter": "python",
   "pygments_lexer": "ipython3",
   "version": "3.11.4"
  }
 },
 "nbformat": 4,
 "nbformat_minor": 2
}
