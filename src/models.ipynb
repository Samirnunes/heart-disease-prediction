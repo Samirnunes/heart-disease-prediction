{
 "cells": [
  {
   "cell_type": "code",
   "execution_count": 1,
   "metadata": {},
   "outputs": [],
   "source": [
    "from hdp_data_import import import_heart_disease_data\n",
    "from hdp_data_pipeline import HdpDataPipeline\n",
    "from hdp_many_model_evaluator import HdpManyModelEvaluator\n",
    "from sklearn.ensemble import RandomForestClassifier\n",
    "from sklearn.tree import DecisionTreeClassifier\n",
    "from sklearn.linear_model import LogisticRegression\n",
    "from sklearn.svm import SVC"
   ]
  },
  {
   "cell_type": "code",
   "execution_count": 2,
   "metadata": {},
   "outputs": [],
   "source": [
    "X_train, X_test, y_train, y_test = import_heart_disease_data()"
   ]
  },
  {
   "cell_type": "code",
   "execution_count": 3,
   "metadata": {},
   "outputs": [
    {
     "data": {
      "text/plain": [
       "[{'mean_accuracy': 0.8267307952851917,\n",
       "  'mean_precision': 0.842089869873881,\n",
       "  'mean_recall': 0.846968601374831},\n",
       " {'mean_accuracy': 0.7062728627557242,\n",
       "  'mean_precision': 0.7366226860725369,\n",
       "  'mean_recall': 0.72834657879434},\n",
       " {'mean_accuracy': 0.8250779027232082,\n",
       "  'mean_precision': 0.8556325515280738,\n",
       "  'mean_recall': 0.8227375825558824},\n",
       " {'mean_accuracy': 0.8316894729711422,\n",
       "  'mean_precision': 0.8615439020182853,\n",
       "  'mean_recall': 0.8252031204789155}]"
      ]
     },
     "execution_count": 3,
     "metadata": {},
     "output_type": "execute_result"
    }
   ],
   "source": [
    "X_train, X_test, y_train, y_test = import_heart_disease_data()\n",
    "random_state = 100\n",
    "pipeline = HdpDataPipeline()\n",
    "models = [RandomForestClassifier(n_estimators=100, random_state=random_state),\n",
    "          DecisionTreeClassifier(random_state=random_state),\n",
    "          LogisticRegression(),\n",
    "          SVC(probability=True)]\n",
    "many_evaluator = HdpManyModelEvaluator(models, pipeline)\n",
    "many_evaluator.kfold_cross_val(X_train, y_train, threshold=0.5)"
   ]
  },
  {
   "cell_type": "code",
   "execution_count": 4,
   "metadata": {},
   "outputs": [
    {
     "data": {
      "text/plain": [
       "[{'test_accuracy': 0.7777777777777778,\n",
       "  'test_precision': 0.7225130890052356,\n",
       "  'test_recall': 0.965034965034965},\n",
       " {'test_accuracy': 0.7662835249042146,\n",
       "  'test_precision': 0.7733333333333333,\n",
       "  'test_recall': 0.8111888111888111},\n",
       " {'test_accuracy': 0.7509578544061303,\n",
       "  'test_precision': 0.7074468085106383,\n",
       "  'test_recall': 0.9300699300699301},\n",
       " {'test_accuracy': 0.8045977011494253,\n",
       "  'test_precision': 0.7705882352941177,\n",
       "  'test_recall': 0.916083916083916}]"
      ]
     },
     "execution_count": 4,
     "metadata": {},
     "output_type": "execute_result"
    }
   ],
   "source": [
    "many_evaluator.test_scores(X_train, y_train, X_test, y_test, threshold=0.5)"
   ]
  }
 ],
 "metadata": {
  "kernelspec": {
   "display_name": "data-science",
   "language": "python",
   "name": "python3"
  },
  "language_info": {
   "codemirror_mode": {
    "name": "ipython",
    "version": 3
   },
   "file_extension": ".py",
   "mimetype": "text/x-python",
   "name": "python",
   "nbconvert_exporter": "python",
   "pygments_lexer": "ipython3",
   "version": "3.11.4"
  }
 },
 "nbformat": 4,
 "nbformat_minor": 2
}
