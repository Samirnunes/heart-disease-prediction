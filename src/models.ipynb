{
 "cells": [
  {
   "cell_type": "code",
   "execution_count": 1,
   "metadata": {},
   "outputs": [],
   "source": [
    "from hdp_data_import import import_heart_disease_data\n",
    "from hdp_data_pipeline import HdpDataPipeline\n",
    "from hdp_many_model_evaluator import HdpManyModelEvaluator\n",
    "from sklearn.ensemble import RandomForestClassifier\n",
    "from sklearn.tree import DecisionTreeClassifier\n",
    "from sklearn.linear_model import LogisticRegression"
   ]
  },
  {
   "cell_type": "code",
   "execution_count": 2,
   "metadata": {},
   "outputs": [
    {
     "data": {
      "text/plain": [
       "[{'mean_accuracy': 0.810501453488372, 'mean_recall': 0.8084736496231454},\n",
       " {'mean_accuracy': 0.7266593992248062, 'mean_recall': 0.7231703064701154},\n",
       " {'mean_accuracy': 0.8089147286821705, 'mean_recall': 0.8098778797507128}]"
      ]
     },
     "execution_count": 2,
     "metadata": {},
     "output_type": "execute_result"
    }
   ],
   "source": [
    "X_train, X_test, y_train, y_test = import_heart_disease_data()\n",
    "random_state = 100\n",
    "pipeline = HdpDataPipeline(random_state=random_state)\n",
    "models = [RandomForestClassifier(n_estimators=100, random_state=random_state),\n",
    "          DecisionTreeClassifier(random_state=random_state),\n",
    "          LogisticRegression()]\n",
    "many_evaluator = HdpManyModelEvaluator(models, pipeline)\n",
    "many_evaluator.kfold_cross_val(X_train, y_train)"
   ]
  }
 ],
 "metadata": {
  "kernelspec": {
   "display_name": "data-science",
   "language": "python",
   "name": "python3"
  },
  "language_info": {
   "codemirror_mode": {
    "name": "ipython",
    "version": 3
   },
   "file_extension": ".py",
   "mimetype": "text/x-python",
   "name": "python",
   "nbconvert_exporter": "python",
   "pygments_lexer": "ipython3",
   "version": "3.11.4"
  }
 },
 "nbformat": 4,
 "nbformat_minor": 2
}
