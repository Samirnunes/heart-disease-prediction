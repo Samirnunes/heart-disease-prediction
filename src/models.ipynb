{
 "cells": [
  {
   "cell_type": "code",
   "execution_count": 1,
   "metadata": {},
   "outputs": [],
   "source": [
    "from hdp_data_import import import_heart_disease_data\n",
    "from hdp_data_pipeline import HdpDataPipeline\n",
    "from hdp_many_model_evaluator import HdpManyModelEvaluator\n",
    "from sklearn.ensemble import RandomForestClassifier\n",
    "from sklearn.tree import DecisionTreeClassifier\n",
    "from sklearn.linear_model import LogisticRegression\n",
    "from sklearn.svm import SVC"
   ]
  },
  {
   "cell_type": "code",
   "execution_count": 2,
   "metadata": {},
   "outputs": [
    {
     "data": {
      "text/plain": [
       "[{'mean_accuracy': 0.7359496124031008,\n",
       "  'mean_precision': 0.6855032037666609,\n",
       "  'mean_recall': 0.9690379247055653},\n",
       " {'mean_accuracy': 0.7266593992248062,\n",
       "  'mean_precision': 0.7532982510447299,\n",
       "  'mean_recall': 0.7523772359270551},\n",
       " {'mean_accuracy': 0.7576792635658915,\n",
       "  'mean_precision': 0.7121555395045572,\n",
       "  'mean_recall': 0.940660458859735},\n",
       " {'mean_accuracy': 0.7810198643410853,\n",
       "  'mean_precision': 0.7370684320445329,\n",
       "  'mean_recall': 0.9404989765971757}]"
      ]
     },
     "execution_count": 2,
     "metadata": {},
     "output_type": "execute_result"
    }
   ],
   "source": [
    "X_train, X_test, y_train, y_test = import_heart_disease_data()\n",
    "random_state = 100\n",
    "pipeline = HdpDataPipeline()\n",
    "models = [RandomForestClassifier(n_estimators=100, random_state=random_state),\n",
    "          DecisionTreeClassifier(random_state=random_state),\n",
    "          LogisticRegression(),\n",
    "          SVC(probability=True)]\n",
    "many_evaluator = HdpManyModelEvaluator(models, pipeline)\n",
    "many_evaluator.kfold_cross_val(X_train, y_train, threshold=0.2)"
   ]
  },
  {
   "cell_type": "code",
   "execution_count": 3,
   "metadata": {},
   "outputs": [
    {
     "data": {
      "text/plain": [
       "[{'test_accuracy': 0.7789855072463768,\n",
       "  'test_precision': 0.7233009708737864,\n",
       "  'test_recall': 0.9738562091503268},\n",
       " {'test_accuracy': 0.7608695652173914,\n",
       "  'test_precision': 0.8270676691729323,\n",
       "  'test_recall': 0.7189542483660131},\n",
       " {'test_accuracy': 0.7934782608695652,\n",
       "  'test_precision': 0.7580645161290323,\n",
       "  'test_recall': 0.9215686274509803},\n",
       " {'test_accuracy': 0.822463768115942,\n",
       "  'test_precision': 0.7888888888888889,\n",
       "  'test_recall': 0.9281045751633987}]"
      ]
     },
     "execution_count": 3,
     "metadata": {},
     "output_type": "execute_result"
    }
   ],
   "source": [
    "many_evaluator.test_scores(X_train, y_train, X_test, y_test, threshold=0.2)"
   ]
  }
 ],
 "metadata": {
  "kernelspec": {
   "display_name": "data-science",
   "language": "python",
   "name": "python3"
  },
  "language_info": {
   "codemirror_mode": {
    "name": "ipython",
    "version": 3
   },
   "file_extension": ".py",
   "mimetype": "text/x-python",
   "name": "python",
   "nbconvert_exporter": "python",
   "pygments_lexer": "ipython3",
   "version": "3.11.4"
  }
 },
 "nbformat": 4,
 "nbformat_minor": 2
}
