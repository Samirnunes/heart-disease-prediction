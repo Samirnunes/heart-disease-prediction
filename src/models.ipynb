{
 "cells": [
  {
   "cell_type": "code",
   "execution_count": 1,
   "metadata": {},
   "outputs": [],
   "source": [
    "from hdp_data_import import import_heart_disease_data\n",
    "from hdp_data_transformer import HdpDataTransformer"
   ]
  },
  {
   "cell_type": "code",
   "execution_count": 2,
   "metadata": {},
   "outputs": [],
   "source": [
    "X_train, X_test, y_train, y_test = import_heart_disease_data()\n",
    "transformer = HdpDataTransformer()\n",
    "X_train, X_test, y_train, y_test = transformer.fit_transform(X_train, X_test, y_train, y_test)"
   ]
  },
  {
   "cell_type": "code",
   "execution_count": 4,
   "metadata": {},
   "outputs": [],
   "source": [
    "from sklearn.model_selection import KFold\n",
    "from imblearn.over_sampling import SMOTE\n",
    "from sklearn.ensemble import RandomForestClassifier\n",
    "from sklearn.metrics import recall_score, accuracy_score\n",
    "\n",
    "kf = KFold(n_splits=5)\n",
    "accuracies = []\n",
    "recalls = []\n",
    "\n",
    "for fold, (train_index, val_index) in enumerate(kf.split(X_train), 1):\n",
    "    X_train_fold = X_train.iloc[train_index]\n",
    "    y_train_fold = y_train.iloc[train_index] \n",
    "    X_val_fold = X_train.iloc[val_index]\n",
    "    y_val_fold = y_train.iloc[val_index] \n",
    "    X_train_fold_oversampled, y_train_fold_oversampled = SMOTE(k_neighbors=5).fit_resample(X_train_fold, y_train_fold)\n",
    "    model = RandomForestClassifier(n_estimators=100, random_state=0)\n",
    "    model.fit(X_train_fold_oversampled, y_train_fold_oversampled)  \n",
    "    y_pred = model.predict(X_val_fold)\n",
    "    accuracies.append(accuracy_score(y_val_fold, y_pred))\n",
    "    recalls.append(recall_score(y_val_fold, y_pred, average=\"macro\", zero_division=0))"
   ]
  }
 ],
 "metadata": {
  "kernelspec": {
   "display_name": "data-science",
   "language": "python",
   "name": "python3"
  },
  "language_info": {
   "codemirror_mode": {
    "name": "ipython",
    "version": 3
   },
   "file_extension": ".py",
   "mimetype": "text/x-python",
   "name": "python",
   "nbconvert_exporter": "python",
   "pygments_lexer": "ipython3",
   "version": "3.11.4"
  }
 },
 "nbformat": 4,
 "nbformat_minor": 2
}
